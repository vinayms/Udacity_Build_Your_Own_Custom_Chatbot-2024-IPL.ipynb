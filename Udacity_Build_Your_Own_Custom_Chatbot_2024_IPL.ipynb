{
  "nbformat": 4,
  "nbformat_minor": 0,
  "metadata": {
    "colab": {
      "provenance": [],
      "toc_visible": true
    },
    "kernelspec": {
      "name": "python3",
      "display_name": "Python 3"
    },
    "language_info": {
      "name": "python"
    }
  },
  "cells": [
    {
      "cell_type": "markdown",
      "source": [
        "# Custom Chatbot Project\n",
        "In this project we are choosing data set of current ongoing Indial Premier League 2024 match results extracted from wikipedia page. The custom chatbot goal is to build prompt question to answer highlevel questions like who won the match in the current ongoing IPL2024.\n",
        "\n",
        "OpenAI do not have information on 2024 IPL so choosing current ongoing as of Apirl-May 2024 IPL.\n",
        "\n",
        "The technique used is RAG Retrieval Augmented Generation on the broader level. RAG, which stands for Retrieval-Augmented Generation, is a powerful technique in the field of natural language processing (NLP) that combines the strengths of both retrieval-based and generative models. It aims to enhance the quality and relevance of generated responses by incorporating information from a large external knowledge source. By leveraging this contextual information, RAG models can provide more informed responses. For example, if a question is asked about a specific topic, RAG can retrieve relevant information from a knowledge base and use that information to generate a response that is grounded in factual accuracy and context."
      ],
      "metadata": {
        "id": "CqRB4CTCuqEZ"
      }
    },
    {
      "cell_type": "code",
      "source": [
        "pip install openai==0.28"
      ],
      "metadata": {
        "colab": {
          "base_uri": "https://localhost:8080/",
          "height": 495
        },
        "id": "EN_Ra7aAkqAr",
        "outputId": "abbf104a-9601-4d7e-8831-69c7867ade41"
      },
      "execution_count": 13,
      "outputs": [
        {
          "output_type": "stream",
          "name": "stdout",
          "text": [
            "Collecting openai==0.28\n",
            "  Downloading openai-0.28.0-py3-none-any.whl (76 kB)\n",
            "\u001b[?25l     \u001b[90m━━━━━━━━━━━━━━━━━━━━━━━━━━━━━━━━━━━━━━━━\u001b[0m \u001b[32m0.0/76.5 kB\u001b[0m \u001b[31m?\u001b[0m eta \u001b[36m-:--:--\u001b[0m\r\u001b[2K     \u001b[91m━━━━━━━━━━━━━━━━━━━━━━━━━━━━━━━━━━━━━\u001b[0m\u001b[90m╺\u001b[0m\u001b[90m━━\u001b[0m \u001b[32m71.7/76.5 kB\u001b[0m \u001b[31m2.7 MB/s\u001b[0m eta \u001b[36m0:00:01\u001b[0m\r\u001b[2K     \u001b[90m━━━━━━━━━━━━━━━━━━━━━━━━━━━━━━━━━━━━━━━━\u001b[0m \u001b[32m76.5/76.5 kB\u001b[0m \u001b[31m1.8 MB/s\u001b[0m eta \u001b[36m0:00:00\u001b[0m\n",
            "\u001b[?25hRequirement already satisfied: requests>=2.20 in /usr/local/lib/python3.10/dist-packages (from openai==0.28) (2.31.0)\n",
            "Requirement already satisfied: tqdm in /usr/local/lib/python3.10/dist-packages (from openai==0.28) (4.66.4)\n",
            "Requirement already satisfied: aiohttp in /usr/local/lib/python3.10/dist-packages (from openai==0.28) (3.9.5)\n",
            "Requirement already satisfied: charset-normalizer<4,>=2 in /usr/local/lib/python3.10/dist-packages (from requests>=2.20->openai==0.28) (3.3.2)\n",
            "Requirement already satisfied: idna<4,>=2.5 in /usr/local/lib/python3.10/dist-packages (from requests>=2.20->openai==0.28) (3.7)\n",
            "Requirement already satisfied: urllib3<3,>=1.21.1 in /usr/local/lib/python3.10/dist-packages (from requests>=2.20->openai==0.28) (2.0.7)\n",
            "Requirement already satisfied: certifi>=2017.4.17 in /usr/local/lib/python3.10/dist-packages (from requests>=2.20->openai==0.28) (2024.2.2)\n",
            "Requirement already satisfied: aiosignal>=1.1.2 in /usr/local/lib/python3.10/dist-packages (from aiohttp->openai==0.28) (1.3.1)\n",
            "Requirement already satisfied: attrs>=17.3.0 in /usr/local/lib/python3.10/dist-packages (from aiohttp->openai==0.28) (23.2.0)\n",
            "Requirement already satisfied: frozenlist>=1.1.1 in /usr/local/lib/python3.10/dist-packages (from aiohttp->openai==0.28) (1.4.1)\n",
            "Requirement already satisfied: multidict<7.0,>=4.5 in /usr/local/lib/python3.10/dist-packages (from aiohttp->openai==0.28) (6.0.5)\n",
            "Requirement already satisfied: yarl<2.0,>=1.0 in /usr/local/lib/python3.10/dist-packages (from aiohttp->openai==0.28) (1.9.4)\n",
            "Requirement already satisfied: async-timeout<5.0,>=4.0 in /usr/local/lib/python3.10/dist-packages (from aiohttp->openai==0.28) (4.0.3)\n",
            "Installing collected packages: openai\n",
            "  Attempting uninstall: openai\n",
            "    Found existing installation: openai 1.28.1\n",
            "    Uninstalling openai-1.28.1:\n",
            "      Successfully uninstalled openai-1.28.1\n",
            "Successfully installed openai-0.28.0\n"
          ]
        },
        {
          "output_type": "display_data",
          "data": {
            "application/vnd.colab-display-data+json": {
              "pip_warning": {
                "packages": [
                  "openai"
                ]
              },
              "id": "1f661fafbb8446ab829b43d111d42e6b"
            }
          },
          "metadata": {}
        }
      ]
    },
    {
      "cell_type": "code",
      "execution_count": 4,
      "metadata": {
        "id": "UwwHUEjMj7yY"
      },
      "outputs": [],
      "source": [
        "SOURCE_URL = 'https://en.wikipedia.org/wiki/2024_Indian_Premier_League'\n",
        "HTML_PAGE_FILEPATH = './html_page.html'\n",
        "CSV_FILEPATH_WITH_EMBEDDINGS = './wikipedia_with_embeddings.csv'\n"
      ]
    },
    {
      "cell_type": "code",
      "source": [
        "import requests\n",
        "import pandas as pd\n",
        "import openai\n",
        "from bs4 import BeautifulSoup\n",
        "from typing import List, Union, Dict\n",
        "from scipy.spatial.distance import cosine\n",
        "openai.api_key=\"YOUR_API_KEY\""
      ],
      "metadata": {
        "id": "-eJD22Bmki9m"
      },
      "execution_count": 2,
      "outputs": []
    },
    {
      "cell_type": "markdown",
      "source": [
        "**Data Wrangling**\n",
        "\n",
        "Extract data from Wikipedia and structure it in a way that can be used to build embeddings, you can follow a few steps. Here first we identify the specific Wikipedia page or pages from which you want to extract data. Then, use web scraping techniques to fetch the HTML content of the page. Next, parse the HTML content to extract the relevant information, such as paragraphs, tables, or lists. Once you have extracted the data, you can organize it into a structured format, such as 'text' column. This structured data can then be used as input to build embeddings using techniques like word embeddings or document embeddings."
      ],
      "metadata": {
        "id": "411-hSxuv0OJ"
      }
    },
    {
      "cell_type": "code",
      "source": [
        "# Helper function to fetch HTML page from a URL\n",
        "def fetch_html_page(url: str) -> bytes:\n",
        "    \"\"\"\n",
        "    Fetches HTML content from a given URL.\n",
        "\n",
        "    Args:\n",
        "        url (str): The URL of the webpage to fetch.\n",
        "\n",
        "    Returns:\n",
        "        bytes: The HTML content of the webpage.\n",
        "\n",
        "    Raises:\n",
        "        Exception: If there is a connection error.\n",
        "    \"\"\"\n",
        "    headers = {\n",
        "        'user-agent': 'Mozilla/5.0 (Macintosh; Intel Mac OS X 10_15_7) AppleWebKit/537.36 (KHTML, like Gecko) Chrome/112.0.0.0 Safari/537.36'\n",
        "    }\n",
        "    response = requests.get(url, headers=headers)\n",
        "    #print(response.text)\n",
        "\n",
        "\n",
        "    if response.status_code == 200:\n",
        "        return response.content\n",
        "    else:\n",
        "        raise Exception('Connection error')\n",
        "\n",
        "with open(HTML_PAGE_FILEPATH, mode='wb') as html_file:\n",
        "    html_page = fetch_html_page(SOURCE_URL)\n",
        "    html_file.write(html_page)"
      ],
      "metadata": {
        "id": "ZGtM458vkx8N"
      },
      "execution_count": 5,
      "outputs": []
    },
    {
      "cell_type": "code",
      "source": [],
      "metadata": {
        "id": "-I3U2-eMlLxj"
      },
      "execution_count": null,
      "outputs": []
    },
    {
      "cell_type": "code",
      "source": [
        "# Function to extract data from HTML\\\n",
        "import re\n",
        "def extract_data_from_html(html_file_path: str) -> pd.DataFrame:\n",
        "    \"\"\"\n",
        "    Extracts data from an HTML file.\n",
        "\n",
        "    Args:\n",
        "        html_file_path (str): The file path to the HTML file.\n",
        "\n",
        "    Returns:\n",
        "        pd.DataFrame: A DataFrame containing the extracted data.\n",
        "    \"\"\"\n",
        "    # Parsing the HTML file\n",
        "    with open(html_file_path) as fp:\n",
        "        soup = BeautifulSoup(fp, 'html.parser')\n",
        "\n",
        "    # Finding the root DOM node\n",
        "    #this is html extract check the website for change in the id value in case of error.\n",
        "    root_dom_node = soup.find('span', {'id': 'Fixtures_and_results'})\n",
        "    print(root_dom_node)\n",
        "    # Extracting month headers\n",
        "    index=0;\n",
        "    match_headers = [match_header.find_next('span') for index, match_header in enumerate(soup.find_all('span', {'id': f\"match{index+1}\"}))]\n",
        "    current_match = None\n",
        "    data = []\n",
        "\n",
        "    # Loop through DOM nodes to extract data\n",
        "    for node in root_dom_node.find_all_next():\n",
        "        if node.name == 'td':\n",
        "            data.append(f\"{node.find_next('b').text.strip()}\")\n",
        "    # Creating DataFrame from extracted data\n",
        "    chunks = [\" \".join((data[i:i+8])) for i in range(0, len(data), 8)]\n",
        "    df = pd.DataFrame(chunks, columns=['text'])\n",
        "    return df"
      ],
      "metadata": {
        "id": "5yfm5srKk4H_"
      },
      "execution_count": 6,
      "outputs": []
    },
    {
      "cell_type": "code",
      "source": [
        "# Extracting data from HTML and displaying DataFrame\n",
        "df = extract_data_from_html(HTML_PAGE_FILEPATH)\n",
        "pd.set_option('display.max_colwidth', None)\n",
        "pd.set_option('display.max_rows', None)"
      ],
      "metadata": {
        "colab": {
          "base_uri": "https://localhost:8080/"
        },
        "id": "vccweEu1k9GF",
        "outputId": "fd37f2a5-28b5-40e1-8c55-61bb14128d12"
      },
      "execution_count": 7,
      "outputs": [
        {
          "output_type": "stream",
          "name": "stdout",
          "text": [
            "<span class=\"mw-headline\" id=\"Fixtures_and_results\">Fixtures and results</span>\n"
          ]
        }
      ]
    },
    {
      "cell_type": "code",
      "source": [
        "# Displaying DataFrame and its shape\n",
        "print(df.head(20))\n",
        "print(df.shape)"
      ],
      "metadata": {
        "colab": {
          "base_uri": "https://localhost:8080/"
        },
        "id": "_Q07Iyq9lPZY",
        "outputId": "78011276-f0bb-4833-d1a7-fc58d9d883fb"
      },
      "execution_count": 8,
      "outputs": [
        {
          "output_type": "stream",
          "name": "stdout",
          "text": [
            "                                                                                                                                                                                                                                          text\n",
            "0                            Match 1 Royal Challengers Bengaluru v Chennai Super Kings (H) Chennai Super Kings won by 6 wickets Chennai Super Kings won by 6 wickets Chennai Super Kings won by 6 wickets Chennai Super Kings won by 6 wickets\n",
            "1                                                                            Match 2 Delhi Capitals v Punjab Kings (H) Punjab Kings won by 4 wickets Punjab Kings won by 4 wickets Punjab Kings won by 4 wickets Punjab Kings won by 4 wickets\n",
            "2                                      Match 3 (H) Kolkata Knight Riders v Sunrisers Hyderabad Kolkata Knight Riders won by 4 runs Kolkata Knight Riders won by 4 runs Kolkata Knight Riders won by 4 runs Kolkata Knight Riders won by 4 runs\n",
            "3                                                          Match 4 (H) Rajasthan Royals v Lucknow Super Giants Rajasthan Royals won by 20 runs Rajasthan Royals won by 20 runs Rajasthan Royals won by 20 runs Rajasthan Royals won by 20 runs\n",
            "4                                                                              Match 5 (H) Gujarat Titans v Mumbai Indians Gujarat Titans won by 6 runs Gujarat Titans won by 6 runs Gujarat Titans won by 6 runs Gujarat Titans won by 6 runs\n",
            "5   Match 6 Punjab Kings v Royal Challengers Bengaluru (H) Royal Challengers Bengaluru won by 4 wickets Royal Challengers Bengaluru won by 4 wickets Royal Challengers Bengaluru won by 4 wickets Royal Challengers Bengaluru won by 4 wickets\n",
            "6                                                 Match 7 (H) Chennai Super Kings v Gujarat Titans Chennai Super Kings won by 63 runs Chennai Super Kings won by 63 runs Chennai Super Kings won by 63 runs Chennai Super Kings won by 63 runs\n",
            "7                                                 Match 8 (H) Sunrisers Hyderabad v Mumbai Indians Sunrisers Hyderabad won by 31 runs Sunrisers Hyderabad won by 31 runs Sunrisers Hyderabad won by 31 runs Sunrisers Hyderabad won by 31 runs\n",
            "8                                                                Match 9 (H) Rajasthan Royals v Delhi Capitals Rajasthan Royals won by 12 runs Rajasthan Royals won by 12 runs Rajasthan Royals won by 12 runs Rajasthan Royals won by 12 runs\n",
            "9                 Match 10 (H) Royal Challengers Bengaluru v Kolkata Knight Riders Kolkata Knight Riders won by 7 wickets Kolkata Knight Riders won by 7 wickets Kolkata Knight Riders won by 7 wickets Kolkata Knight Riders won by 7 wickets\n",
            "10                                            Match 11 (H) Lucknow Super Giants v Punjab Kings Lucknow Super Giants won by 21 runs Lucknow Super Giants won by 21 runs Lucknow Super Giants won by 21 runs Lucknow Super Giants won by 21 runs\n",
            "11                                                           Match 12 Sunrisers Hyderabad v Gujarat Titans (H) Gujarat Titans won by 7 wickets Gujarat Titans won by 7 wickets Gujarat Titans won by 7 wickets Gujarat Titans won by 7 wickets\n",
            "12                                                                   Match 13 (H) Delhi Capitals v Chennai Super Kings Delhi Capitals won by 20 runs Delhi Capitals won by 20 runs Delhi Capitals won by 20 runs Delhi Capitals won by 20 runs\n",
            "13                                                  Match 14 (H) Mumbai Indians v Rajasthan Royals Rajasthan Royals\\twon by 6 wickets Rajasthan Royals\\twon by 6 wickets Rajasthan Royals\\twon by 6 wickets Rajasthan Royals\\twon by 6 wickets\n",
            "14                             Match 15 Lucknow Super Giants v Royal Challengers Bengaluru (H) Lucknow Super Giants won by 28 runs Lucknow Super Giants won by 28 runs Lucknow Super Giants won by 28 runs Lucknow Super Giants won by 28 runs\n",
            "15                                 Match 16 Kolkata Knight Riders v Delhi Capitals (H) Kolkata Knight Riders won by 106 runs Kolkata Knight Riders won by 106 runs Kolkata Knight Riders won by 106 runs Kolkata Knight Riders won by 106 runs\n",
            "16                                                                          Match 17 (H) Gujarat Titans v Punjab Kings Punjab Kings won by 3 wickets Punjab Kings won by 3 wickets Punjab Kings won by 3 wickets Punjab Kings won by 3 wickets\n",
            "17                                  Match 18 Chennai Super Kings v Sunrisers Hyderabad (H) Sunrisers Hyderabad won by 6 wickets Sunrisers Hyderabad won by 6 wickets Sunrisers Hyderabad won by 6 wickets Sunrisers Hyderabad won by 6 wickets\n",
            "18                                         Match 19 Royal Challengers Bengaluru v Rajasthan Royals (H) Rajasthan Royals won by 6 wickets Rajasthan Royals won by 6 wickets Rajasthan Royals won by 6 wickets Rajasthan Royals won by 6 wickets\n",
            "19                                                                        Match 20 (H) Mumbai Indians v Delhi Capitals Mumbai Indians won by 29 runs Mumbai Indians won by 29 runs Mumbai Indians won by 29 runs Mumbai Indians won by 29 runs\n",
            "(109, 1)\n"
          ]
        }
      ]
    },
    {
      "cell_type": "code",
      "source": [
        "EMBEDDING_MODEL_NAME = \"text-embedding-ada-002\"\n",
        "COMPLETION_MODEL = 'gpt-3.5-turbo'\n",
        "#Batch size need to revisited since it is taking more time on creating embeddings.\n",
        "BATCH_SIZE = 1"
      ],
      "metadata": {
        "id": "a1TqegtzlTOh"
      },
      "execution_count": 9,
      "outputs": []
    },
    {
      "cell_type": "code",
      "source": [
        "# Reset display options for pandas DataFrame\n",
        "pd.reset_option('display.max_colwidth')\n",
        "pd.reset_option('display.max_rows')"
      ],
      "metadata": {
        "id": "m4JMd2_slXab"
      },
      "execution_count": 10,
      "outputs": []
    },
    {
      "cell_type": "code",
      "source": [
        "def get_embeddings(prompt: Union[str, List[str]], embedding_model: str) -> List[List[float]]:\n",
        "    \"\"\"\n",
        "    Retrieves embeddings from OpenAI API for the given prompt using the specified embedding model.\n",
        "\n",
        "    Args:\n",
        "        prompt (Union[str, List[str]]): Input prompt or list of prompts.\n",
        "        embedding_model (str): Name of the embedding model to use.\n",
        "\n",
        "    Returns:\n",
        "        List[List[float]]: List of embeddings for the input prompt(s).\n",
        "    \"\"\"\n",
        "\n",
        "    response = openai.Embedding.create(\n",
        "        input=prompt if isinstance(prompt, list) else [prompt],\n",
        "        engine=EMBEDDING_MODEL_NAME,\n",
        "        max_tokens=100,\n",
        "        temperature=0,\n",
        "        n=1,\n",
        "        stop=None,\n",
        "        log_level=\"info\"\n",
        "    )\n",
        "    return [row.embedding for row in response.data]\n",
        "\n",
        "# Function to create embeddings for DataFrame\n",
        "def create_embeddings(df: pd.DataFrame, embedding_model_name: str = EMBEDDING_MODEL_NAME, batch_size: int = BATCH_SIZE) -> List[List[float]]:\n",
        "    \"\"\"\n",
        "    Creates embeddings for the text data in the DataFrame using the specified embedding model.\n",
        "\n",
        "    Args:\n",
        "        df (pd.DataFrame): DataFrame containing text data.\n",
        "        embedding_model_name (str): Name of the embedding model to use.\n",
        "        batch_size (int): Size of batches for processing.\n",
        "\n",
        "    Returns:\n",
        "        List[List[float]]: List of embeddings corresponding to the text data.\n",
        "    \"\"\"\n",
        "    embeddings_output = []\n",
        "    for idx in range(0, len(df), batch_size):\n",
        "        batch = df.iloc[idx:idx+batch_size]['text'].tolist()\n",
        "        embeddings = get_embeddings(batch, embedding_model_name)\n",
        "        embeddings_output.extend(embeddings)\n",
        "    return embeddings_output"
      ],
      "metadata": {
        "id": "vS8xXgRYlcP9"
      },
      "execution_count": 24,
      "outputs": []
    },
    {
      "cell_type": "code",
      "source": [
        "# Add embeddings to DataFrame and save to CSV\n",
        "df['embedding'] = create_embeddings(df)\n",
        "df.to_csv(CSV_FILEPATH_WITH_EMBEDDINGS, sep=',', index=False)\n",
        "\n",
        "# Display DataFrame head\n",
        "print(df.head(10))"
      ],
      "metadata": {
        "colab": {
          "base_uri": "https://localhost:8080/"
        },
        "id": "zelJJS9jlhed",
        "outputId": "5d5503eb-2347-4461-8dce-2ff5d4357e43"
      },
      "execution_count": 45,
      "outputs": [
        {
          "output_type": "stream",
          "name": "stdout",
          "text": [
            "                                                text  \\\n",
            "0  Match 1 Royal Challengers Bengaluru v Chennai ...   \n",
            "1  Match 2 Delhi Capitals v Punjab Kings (H) Punj...   \n",
            "2  Match 3 (H) Kolkata Knight Riders v Sunrisers ...   \n",
            "3  Match 4 (H) Rajasthan Royals v Lucknow Super G...   \n",
            "4  Match 5 (H) Gujarat Titans v Mumbai Indians Gu...   \n",
            "5  Match 6 Punjab Kings v Royal Challengers Benga...   \n",
            "6  Match 7 (H) Chennai Super Kings v Gujarat Tita...   \n",
            "7  Match 8 (H) Sunrisers Hyderabad v Mumbai India...   \n",
            "8  Match 9 (H) Rajasthan Royals v Delhi Capitals ...   \n",
            "9  Match 10 (H) Royal Challengers Bengaluru v Kol...   \n",
            "\n",
            "                                           embedding  \n",
            "0  [0.01276527252048254, -0.0024205476511269808, ...  \n",
            "1  [-0.00025063130306079984, 0.002982246922329068...  \n",
            "2  [0.0038601511623710394, 0.0009172391728498042,...  \n",
            "3  [-0.0006995435687713325, -0.009809255599975586...  \n",
            "4  [-0.012661637738347054, -0.004087824374437332,...  \n",
            "5  [0.0035090281162410975, -0.009090369567275047,...  \n",
            "6  [0.015171822160482407, 0.0028163748793303967, ...  \n",
            "7  [0.00301520898938179, -0.014822063967585564, 0...  \n",
            "8  [-0.011110832914710045, -0.008845832198858261,...  \n",
            "9  [0.005656202789396048, -0.01451253890991211, 0...  \n"
          ]
        }
      ]
    },
    {
      "cell_type": "code",
      "source": [
        "EMBEDDING_MODEL = 'text-embedding-3-small'"
      ],
      "metadata": {
        "id": "9WywZP5Cnlhx"
      },
      "execution_count": 17,
      "outputs": []
    },
    {
      "cell_type": "markdown",
      "source": [
        "**Custom Query Completion**\n",
        "\n",
        "In the following cell defining buil_simple_promt function just to construct the simple prompt.\n",
        "\n",
        "build_custom_prompt - function to build custom context and create prompt as per the data set embeddings which was prepared.\n",
        "\n",
        "handle_question is the function which takes the prompt and returns the response."
      ],
      "metadata": {
        "id": "MV892f4owDmK"
      }
    },
    {
      "cell_type": "code",
      "source": [
        "def build_simple_prompt(question: str) -> List[Dict[str, str]]:\n",
        "    \"\"\"\n",
        "    Builds a simple prompt for asking a question.\n",
        "\n",
        "    Args:\n",
        "        question (str): The question to include in the prompt.\n",
        "\n",
        "    Returns:\n",
        "        List[Dict[str, str]]: A list containing a single message with the user role and the provided question.\n",
        "    \"\"\"\n",
        "    return [\n",
        "        {\n",
        "            'role': 'user',\n",
        "            'content': question\n",
        "        }\n",
        "    ]\n",
        "\n",
        "#Provide a summary of the results for IPL 2024 matches, including which teams played each match and the outcomes.\n",
        "#Specifically, focus on details such as the match number, competing teams, the winning team, and the margin of victory. \\\n",
        "#For instance, for Match 1, mention the teams involved, who hosted the game, and how the game was won\n",
        "\n",
        "def build_custom_prompt(question: str, database_df: pd.DataFrame) -> List[Dict[str, str]]:\n",
        "    \"\"\"\n",
        "    Builds a custom prompt including context for asking a question based on a database DataFrame.\n",
        "\n",
        "    Args:\n",
        "        question (str): The question to include in the prompt.\n",
        "        database_df (pd.DataFrame): The DataFrame containing the database of facts.\n",
        "\n",
        "    Returns:\n",
        "        List[Dict[str, str]]: A list containing two messages: system message with context and user message with the question.\n",
        "    \"\"\"\n",
        "    return [\n",
        "        {\n",
        "            'role': 'system',\n",
        "            'content': \"\"\"\n",
        "            Answer the question based on provided context below. If the question cannot be answered based on provided context, say \"I don't know the answer\".\n",
        "            We have 2024 IPL - IPL is Indial premier League. Context contains facts from ongoing 2024 IPL Match statistics.\n",
        "            Facts starts with, or instance, for Match 1, mention the teams involved, who hosted the game, and how the game was won.\n",
        "            Context:\n",
        "                {}\n",
        "            \"\"\".format('\\n\\n'.join(build_custom_context(question, database_df)))\n",
        "        },\n",
        "        {\n",
        "            'role': 'user',\n",
        "            'content': question\n",
        "        }\n",
        "    ]\n",
        "\n",
        "def build_custom_context(question: str, database_df: pd.DataFrame, n: int = 5) -> List[str]:\n",
        "    \"\"\"\n",
        "    Builds a custom context for a given question based on the closest facts from a database DataFrame.\n",
        "\n",
        "    Args:\n",
        "        question (str): The question for which the context is being built.\n",
        "        database_df (pd.DataFrame): The DataFrame containing the database of facts.\n",
        "        n (int): The number of closest facts to include in the context.\n",
        "\n",
        "    Returns:\n",
        "        List[str]: A list of closest facts to the question.\n",
        "    \"\"\"\n",
        "    question_embedding = get_embeddings(question, EMBEDDING_MODEL)[0]\n",
        "    df = database_df.copy()\n",
        "    df[\"distances\"] = df['embedding'].apply(lambda embedding: cosine(embedding, question_embedding))\n",
        "    df.sort_values(\"distances\", ascending=True, inplace=True)\n",
        "    return df.iloc[:n]['text'].tolist()\n",
        "\n",
        "def handle_question(prompt: List[Dict[str, str]],model_name: str = COMPLETION_MODEL) -> str:\n",
        "    \"\"\"\n",
        "    Handles a question prompt by generating a response using the specified model.\n",
        "\n",
        "    Args:\n",
        "        prompt (List[Dict[str, str]]): The prompt messages to send to the model.\n",
        "        model_name (str): The name of the completion model to use.\n",
        "\n",
        "    Returns:\n",
        "        str: The response generated by the model.\n",
        "    \"\"\"\n",
        "    response = openai.ChatCompletion.create(model=\"gpt-4-turbo-preview\", messages=prompt)\n",
        "    return response.choices[0].message.content"
      ],
      "metadata": {
        "id": "0ZHcMSTtmKD3"
      },
      "execution_count": 36,
      "outputs": []
    },
    {
      "cell_type": "markdown",
      "source": [
        "**Custom Performance Demonstration**\n",
        "\n",
        "The following cells demonstrates the performance of the custom query using 3 questions. For each question, 2 answers one with simple prompt which is without context and the other is custom promp with context.[link text](https://)"
      ],
      "metadata": {
        "id": "ii7-dNApwvIj"
      }
    },
    {
      "cell_type": "code",
      "source": [
        "# Read the DataFrame from CSV file\n",
        "df = pd.read_csv(CSV_FILEPATH_WITH_EMBEDDINGS)\n",
        "# Convert embedding values from string to list of floats\n",
        "df['embedding'] = df['embedding'].apply(lambda value: [float(dim) for dim in value.replace('[', '').replace(']', '').split(',')])"
      ],
      "metadata": {
        "id": "sKq5lyI3mScA"
      },
      "execution_count": 38,
      "outputs": []
    },
    {
      "cell_type": "code",
      "source": [
        "question_1 = 'Who won the Match 1 of Indial Premeir League 2024?'\n",
        "print('Answer without context : \\n' , handle_question(build_simple_prompt(question_1)))\n",
        "print('Answer with context : \\n ', handle_question(build_custom_prompt(question_1, df)))"
      ],
      "metadata": {
        "colab": {
          "base_uri": "https://localhost:8080/"
        },
        "id": "SjehVFosmXMb",
        "outputId": "b6ce1cae-d51b-498b-8886-1c4502733a13"
      },
      "execution_count": 40,
      "outputs": [
        {
          "output_type": "stream",
          "name": "stdout",
          "text": [
            "Answer without context : \n",
            " I'm sorry, but I can't provide future events such as the winner of the first match of the Indian Premier League in 2024. My knowledge is current up to September 2023, and future IPL matches including outcomes are beyond my current information. Please check the latest sports news for the most current outcomes of sports events like the IPL.\n",
            "Answer with context : \n",
            "  Chennai Super Kings won Match 1 of the Indian Premier League 2024.\n"
          ]
        }
      ]
    },
    {
      "cell_type": "code",
      "source": [
        "question_2 = 'Who won the Match 40 of IPL?'\n",
        "# Print answer without context\n",
        "print('Answer without Context: \\n', handle_question(build_simple_prompt(question_2)))\n",
        "\n",
        "# Print answer with context\n",
        "print('\\nAnswer with Context: \\n', handle_question(build_custom_prompt(question_2, df)))"
      ],
      "metadata": {
        "colab": {
          "base_uri": "https://localhost:8080/"
        },
        "id": "Any8AYyDmdjB",
        "outputId": "fb216374-50ba-45ed-f004-67b3bd462977"
      },
      "execution_count": 42,
      "outputs": [
        {
          "output_type": "stream",
          "name": "stdout",
          "text": [
            "Answer without Context: \n",
            " I cannot provide real-time information, including the outcome of specific IPL matches such as Match 40, because my last update was in September 2023. For the most accurate and current information on IPL match results, please check the latest sports news on a reliable website or the official IPL platform.\n",
            "\n",
            "Answer with Context: \n",
            " Delhi Capitals won Match 40 of the IPL by 4 runs.\n"
          ]
        }
      ]
    },
    {
      "cell_type": "code",
      "source": [
        "question_3 = 'Who won the Match 6 Punjab Kings v Royal Challengers Bengaluru of IPL?'\n",
        "# Print answer without context\n",
        "print('Answer without Context: \\n', handle_question(build_simple_prompt(question_3)))\n",
        "\n",
        "# Print answer with context\n",
        "print('\\nAnswer with Context: \\n', handle_question(build_custom_prompt(question_3, df)))"
      ],
      "metadata": {
        "colab": {
          "base_uri": "https://localhost:8080/"
        },
        "id": "kPtbA6_WtzvM",
        "outputId": "391809c0-9d1a-423d-e6d6-16e8b412a1ba"
      },
      "execution_count": 46,
      "outputs": [
        {
          "output_type": "stream",
          "name": "stdout",
          "text": [
            "Answer without Context: \n",
            " As of my last update in September 2023, the specific outcome of Match 6 between Punjab Kings and Royal Challengers Bangalore in the Indian Premier League (IPL) for a given year was not provided. The IPL schedules and match results are updated annually, and outcomes can vary each year. For the most current and accurate information regarding match results, I'd recommend checking the official IPL website or reputable sports news websites.\n",
            "\n",
            "Answer with Context: \n",
            " Royal Challengers Bengaluru won by 4 wickets.\n"
          ]
        }
      ]
    },
    {
      "cell_type": "markdown",
      "source": [
        "# **Conclusion** :\n",
        "\n",
        "Context Dependence: The model's ability to provide accurate responses improves\n",
        "significantly when it has access to the appropriate context or database, highlighting the importance of tailored data environments in achieving precise answers.\n",
        "\n",
        "Error Correction Capability: When initially provided with inadequate context, the model's responses can be incorrect. However, it has the capacity to adjust and correct these errors once the necessary contextual information is made available.\n",
        "\n",
        "Data Retrieval Efficiency: The successful retrieval of information from a custom database indicates that the model is equipped with effective data processing mechanisms, allowing it to extract relevant facts efficiently when provided with structured data.\n",
        "\n",
        "Significance of Detailed Databases: The need for a detailed and specific database to ensure the accuracy of responses underlines the model’s reliance on comprehensive data inputs to function optimally."
      ],
      "metadata": {
        "id": "_cj_K1-rx1wv"
      }
    }
  ]
}